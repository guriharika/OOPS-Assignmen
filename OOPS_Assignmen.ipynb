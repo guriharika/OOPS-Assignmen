{
  "nbformat": 4,
  "nbformat_minor": 0,
  "metadata": {
    "colab": {
      "provenance": []
    },
    "kernelspec": {
      "name": "python3",
      "display_name": "Python 3"
    },
    "language_info": {
      "name": "python"
    }
  },
  "cells": [
    {
      "cell_type": "markdown",
      "source": [
        "#  **OOPS Assignment**"
      ],
      "metadata": {
        "id": "sXc0YZIGdAQv"
      }
    },
    {
      "cell_type": "markdown",
      "source": [
        "## **Python OOPs Questions**"
      ],
      "metadata": {
        "id": "u4-XldZDdQC2"
      }
    },
    {
      "cell_type": "markdown",
      "source": [
        "\n",
        "\n",
        "---\n",
        "\n"
      ],
      "metadata": {
        "id": "NNy6Zl7bde9n"
      }
    },
    {
      "cell_type": "markdown",
      "source": [
        "**Q1.What is Object-Oriented Programming (OOP)?**"
      ],
      "metadata": {
        "id": "iKhLRYradg-t"
      }
    },
    {
      "cell_type": "markdown",
      "source": [
        "Ans:Object-Oriented Programming (OOP) is a programming paradigm that organizes code around objects (instances of classes) rather than functions. Key concepts include:\n",
        "\n",
        "* Classes and Objects: A class defines a blueprint, and objects are instances of\n",
        "that class.\n",
        "\n",
        "* Encapsulation: Bundles data and methods, restricting access to internal details.\n",
        "\n",
        "* Inheritance: Allows a class to inherit attributes and methods from another class.\n",
        "\n",
        "* Polymorphism: Enables objects of different classes to be treated as instances of the same class.\n",
        "\n",
        "* Abstraction: Hides complex details and exposes only essential functionality.\n",
        "\n",
        "OOP promotes modularity, reusability, and maintainability in software design.\n",
        "\n",
        "\n",
        "\n"
      ],
      "metadata": {
        "id": "-sBQ8UIkds5-"
      }
    },
    {
      "cell_type": "markdown",
      "source": [
        "\n",
        "\n",
        "---\n",
        "\n"
      ],
      "metadata": {
        "id": "7oR4u8fFeY4O"
      }
    },
    {
      "cell_type": "markdown",
      "source": [
        "**Q2.What is a class in OOP?**"
      ],
      "metadata": {
        "id": "7yyZHGmDebS2"
      }
    },
    {
      "cell_type": "markdown",
      "source": [
        "Ans:In Object-Oriented Programming (OOP), a class is a blueprint or template for creating objects. It defines the attributes (data) and methods (functions) that the objects created from the class will have. A class allows you to group related variables and functions together, making your code more organized and reusable.\n",
        "\n",
        "\n"
      ],
      "metadata": {
        "id": "YpZxdDuaeiw-"
      }
    },
    {
      "cell_type": "markdown",
      "source": [
        "\n",
        "\n",
        "---\n",
        "\n"
      ],
      "metadata": {
        "id": "eDT0MNT3eyQm"
      }
    },
    {
      "cell_type": "markdown",
      "source": [
        "**Q3.What is an object in OOP?**"
      ],
      "metadata": {
        "id": "wPLKVx1jez42"
      }
    },
    {
      "cell_type": "markdown",
      "source": [
        "Ans:In Object-Oriented Programming (OOP), an object is an instance of a class. It represents a specific entity that has both attributes (data) and methods (functions) defined by the class. Objects are the actual entities that interact with one another in the program.\n",
        "\n",
        "Key Characteristics of an Object:\n",
        "\n",
        "* Attributes: These are the properties or characteristics of the object, usually represented by variables. Each object has its own unique set of values for these attributes.\n",
        "\n",
        "* Methods: These are actions or behaviors the object can perform, defined by the functions within the class."
      ],
      "metadata": {
        "id": "wfllk-4ae6HG"
      }
    },
    {
      "cell_type": "markdown",
      "source": [
        "\n",
        "\n",
        "---\n",
        "\n"
      ],
      "metadata": {
        "id": "PMxR2id0fIaO"
      }
    },
    {
      "cell_type": "markdown",
      "source": [
        "**Q4.What is the difference between abstraction and encapsulation?**"
      ],
      "metadata": {
        "id": "yXNVRjnrfLdn"
      }
    },
    {
      "cell_type": "markdown",
      "source": [
        "Ans:Abstraction and Encapsulation are both OOP concepts but differ in purpose:\n",
        "\n",
        "**Abstraction**: Hides complexity by exposing only essential functionality, focusing on what an object can do. Example: Using an interface without showing internal implementation.\n",
        "\n",
        "**Encapsulation**: Hides internal state and restricts direct access to data, focusing on how the data is accessed or modified. Example: Using private variables and public methods to interact with them.\n",
        "\n",
        "**Difference:**\n",
        "\n",
        "* Abstraction simplifies by hiding complexity, while encapsulation protects and controls access to data."
      ],
      "metadata": {
        "id": "-ApWfTvxfR7O"
      }
    },
    {
      "cell_type": "markdown",
      "source": [
        "\n",
        "\n",
        "---\n",
        "\n"
      ],
      "metadata": {
        "id": "Ly7e17pdfqRe"
      }
    },
    {
      "cell_type": "markdown",
      "source": [
        "**Q5.What are dunder methods in Python?**"
      ],
      "metadata": {
        "id": "ThW5AONFfswf"
      }
    },
    {
      "cell_type": "markdown",
      "source": [
        "Ans:Dunder methods (short for \"double underscore\" methods) in Python are special methods that have double underscores before and after their names, like __init__, __str__, or __add__. These methods allow you to define or customize certain behaviors of objects in Python.\n",
        "\n",
        "They are often referred to as magic methods or special methods, and they enable Python to perform operations like object initialization, string representation, operator overloading, and more."
      ],
      "metadata": {
        "id": "EHgm2PcJf0d_"
      }
    },
    {
      "cell_type": "markdown",
      "source": [
        "\n",
        "\n",
        "---\n",
        "\n"
      ],
      "metadata": {
        "id": "WELiLXrqf-kf"
      }
    },
    {
      "cell_type": "markdown",
      "source": [
        "**Q6.Explain the concept of inheritance in OOP?**"
      ],
      "metadata": {
        "id": "MunU1RqGf_vm"
      }
    },
    {
      "cell_type": "markdown",
      "source": [
        "Ans:Inheritance in Object-Oriented Programming (OOP) is a mechanism that allows one class (the subclass or child class) to inherit properties and behaviors (attributes and methods) from another class (the superclass or parent class). This promotes code reuse and enables a hierarchical relationship between classes.\n",
        "\n",
        "Key Points of Inheritance:\n",
        "\n",
        "* Reusability: A subclass inherits all the attributes and methods of the superclass, meaning you don't need to rewrite the same code. The subclass can reuse, extend, or override the methods of the superclass.\n",
        "\n",
        "* Extensibility: You can extend the functionality of a class by adding new methods or modifying inherited ones.\n",
        "\n",
        "* Hierarchical Relationship: Inheritance creates a \"is-a\" relationship between the subclass and the superclass. The subclass is a specialized version of the superclass.\n",
        "\n",
        "**Inheritance Types:**\n",
        "\n",
        "1.Single Inheritance: A subclass inherits from a single superclass.\n",
        "\n",
        "2.Multiple Inheritance: A subclass inherits from more than one superclass.\n",
        "\n",
        "3.Multilevel Inheritance: A subclass inherits from a superclass, which itself is a subclass of another class.\n",
        "\n",
        "4.Hierarchical Inheritance: Multiple subclasses inherit from a single superclass."
      ],
      "metadata": {
        "id": "KI53JdCtgLfn"
      }
    },
    {
      "cell_type": "markdown",
      "source": [
        "\n",
        "\n",
        "---\n",
        "\n"
      ],
      "metadata": {
        "id": "xn5eB9YGg723"
      }
    },
    {
      "cell_type": "markdown",
      "source": [
        "**Q7.What is polymorphism in OOP?**"
      ],
      "metadata": {
        "id": "u_m-Ii0-g-Be"
      }
    },
    {
      "cell_type": "markdown",
      "source": [
        "Ans:Polymorphism in Object-Oriented Programming (OOP) refers to the ability of different objects to respond to the same method or operator in different ways. It allows for one interface to be used for a general class of actions, making the code more flexible and extensible.\n",
        "\n",
        "Key Points:\n",
        "\n",
        "* Method Overriding: In a subclass, a method can be redefined to provide a different implementation than the one in the superclass.\n",
        "\n",
        "* Method Overloading (in some languages): Multiple methods with the same name but different parameters."
      ],
      "metadata": {
        "id": "rA3P2gWAhE3_"
      }
    },
    {
      "cell_type": "markdown",
      "source": [
        "\n",
        "\n",
        "---\n",
        "\n"
      ],
      "metadata": {
        "id": "y0f0rBMphUAG"
      }
    },
    {
      "cell_type": "markdown",
      "source": [
        "**Q8.How is encapsulation achieved in Python?**"
      ],
      "metadata": {
        "id": "zFhyA3XrhVBP"
      }
    },
    {
      "cell_type": "markdown",
      "source": [
        "Ans:Encapsulation in Python is achieved by bundling data (attributes) and methods (functions) that operate on the data within a single unit (class), and restricting access to some of the object's internal state. This helps in protecting the object from unintended interference and modification, and ensures that data is accessed or modified only in controlled ways.\n",
        "\n",
        "**How Encapsulation is Implemented in Python:**\n",
        "\n",
        "* Private Attributes: Prefixing an attribute name with double underscores (__) makes it private and not directly accessible from outside the class.\n",
        "\n",
        "* Public Methods: Use getter and setter methods to provide controlled access to private attributes.\n",
        "\n",
        "* Property Decorators: Python provides @property for a more elegant way to manage access to private data."
      ],
      "metadata": {
        "id": "X3yUKtE5hbwn"
      }
    },
    {
      "cell_type": "markdown",
      "source": [
        "\n",
        "\n",
        "---\n",
        "\n"
      ],
      "metadata": {
        "id": "zvMTin-yhtt2"
      }
    },
    {
      "cell_type": "markdown",
      "source": [
        "**Q9.What is a constructor in Python?**"
      ],
      "metadata": {
        "id": "7SzcmH_3hv1f"
      }
    },
    {
      "cell_type": "markdown",
      "source": [
        "Ans:In Python, a constructor is a special method used to initialize a newly created object. The constructor method in Python is called __init__(). It is automatically invoked when an object is instantiated from a class.\n",
        "\n",
        "Key Points:\n",
        "\n",
        "* Purpose: The constructor is used to initialize the object's attributes and set up any necessary state when an object is created.\n",
        "\n",
        "* Syntax: The constructor method always has the name __init__ and takes at least one argument (self), which refers to the instance of the class being created."
      ],
      "metadata": {
        "id": "qa_5OddBh3tw"
      }
    },
    {
      "cell_type": "markdown",
      "source": [
        "\n",
        "\n",
        "---\n",
        "\n"
      ],
      "metadata": {
        "id": "ZipMcWatiImv"
      }
    },
    {
      "cell_type": "markdown",
      "source": [
        "**Q10.What are class and static methods in Python?**"
      ],
      "metadata": {
        "id": "AfAj3Q15iKAf"
      }
    },
    {
      "cell_type": "markdown",
      "source": [
        "Ans:In Python, class methods and static methods are methods that are associated with a class rather than an instance of the class. They are used for different purposes:\n",
        "\n",
        "**Class Method:**\n",
        "\n",
        "* A class method is a method that is bound to the class and not the instance of the class.\n",
        "\n",
        "* It is defined using the @classmethod decorator.\n",
        "\n",
        "* The first parameter of a class method is always cls, which refers to the class itself, not an instance.\n",
        "\n",
        "**Static Method:**\n",
        "\n",
        "* A static method is a method that doesn't require access to the instance (self) or class (cls).\n",
        "\n",
        "* It is defined using the @staticmethod decorator.\n",
        "\n",
        "* Static methods are used for utility functions that perform an action but don't need to modify or interact with class or instance attributes."
      ],
      "metadata": {
        "id": "viEJT3R6iP2n"
      }
    },
    {
      "cell_type": "markdown",
      "source": [
        "\n",
        "\n",
        "---\n",
        "\n"
      ],
      "metadata": {
        "id": "7XIpO3Zti1OQ"
      }
    },
    {
      "cell_type": "markdown",
      "source": [
        "**Q11.What is method overloading in Python?**"
      ],
      "metadata": {
        "id": "3Dhvqaz1i3R_"
      }
    },
    {
      "cell_type": "markdown",
      "source": [
        "Ans:In Python, method overloading is the ability to define multiple methods with the same name but different arguments. However, Python does not natively support method overloading in the way other languages like Java or C++ do, where you can define multiple methods with the same name but different parameter types or numbers.\n",
        "\n",
        "\n",
        "Workaround for Method Overloading in Python:\n",
        "\n",
        "Since Python doesn't support method overloading by default, you can achieve similar behavior using the following techniques:\n",
        "\n",
        "\n",
        "* Default Arguments: You can use default values for parameters to simulate overloading.\n",
        "\n",
        "* Variable-Length Arguments: Use *args and **kwargs to handle a variable number of arguments.\n",
        "\n",
        "* Conditional Statements: Inside a method, you can use conditional logic to handle different argument combinations."
      ],
      "metadata": {
        "id": "CHKCZ4dijA_Q"
      }
    },
    {
      "cell_type": "markdown",
      "source": [
        "\n",
        "\n",
        "---\n",
        "\n"
      ],
      "metadata": {
        "id": "t_nU4aNsjj-w"
      }
    },
    {
      "cell_type": "markdown",
      "source": [
        "**Q12.What is method overriding in OOP?**"
      ],
      "metadata": {
        "id": "sL5Fg4yijb7f"
      }
    },
    {
      "cell_type": "markdown",
      "source": [
        "Ans:Method overriding in Object-Oriented Programming (OOP) occurs when a subclass provides a specific implementation of a method that is already defined in its superclass. The method in the subclass overrides the method in the superclass, allowing the subclass to provide its own version of the method.\n",
        "\n",
        "Key Points:\n",
        "\n",
        "* Purpose: Allows a subclass to modify or extend the behavior of a method inherited from the parent class.\n",
        "\n",
        "* Syntax: The method in the subclass should have the same name and parameters as the one in the superclass."
      ],
      "metadata": {
        "id": "6oNAWEvGjil3"
      }
    },
    {
      "cell_type": "markdown",
      "source": [
        "\n",
        "\n",
        "---\n",
        "\n"
      ],
      "metadata": {
        "id": "8CYd4RD3jxJw"
      }
    },
    {
      "cell_type": "markdown",
      "source": [
        "**Q13.What is a property decorator in Python?**"
      ],
      "metadata": {
        "id": "RQ8HalavjyWx"
      }
    },
    {
      "cell_type": "markdown",
      "source": [
        "Ans:The @property decorator in Python is used to define a method as a getter for an attribute. It allows you to access the method like an attribute, without needing to call it explicitly (e.g., without using parentheses). This is useful when you want to control the access to an attribute or perform some logic when getting or setting its value.\n",
        "\n",
        "**Key Points:**\n",
        "\n",
        "* The @property decorator makes a method behave like an attribute.\n",
        "\n",
        "* It allows you to customize access to an attribute with getter, setter, and deleter methods.\n",
        "\n",
        "* It helps with encapsulation and adds logic to attribute access."
      ],
      "metadata": {
        "id": "vV7w04IYj303"
      }
    },
    {
      "cell_type": "markdown",
      "source": [
        "\n",
        "\n",
        "---\n",
        "\n"
      ],
      "metadata": {
        "id": "PJ0V9H4bkGn_"
      }
    },
    {
      "cell_type": "markdown",
      "source": [
        "**Q14.Why is polymorphism important in OOP?**"
      ],
      "metadata": {
        "id": "h57Uv8cbkIko"
      }
    },
    {
      "cell_type": "markdown",
      "source": [
        "Ans:Polymorphism is one of the key concepts in Object-Oriented Programming (OOP), and it is important for several reasons:\n",
        "\n",
        "\n",
        "**1. Code Flexibility and Reusability:**\n",
        "\n",
        "* Polymorphism allows the same method or function to behave differently based on the object calling it.\n",
        "\n",
        "* It enables writing more generic and reusable code that can work with different types of objects without knowing their exact type at compile time.\n",
        "\n",
        "**2. Simplifies Code:**\n",
        "\n",
        "* Without polymorphism, you'd need to write specific code for each type of object. With polymorphism, a single piece of code can handle objects of different classes, reducing redundancy.\n",
        "\n",
        "This leads to cleaner, more maintainable code.\n",
        "\n",
        "**3. Improves Extensibility:**\n",
        "\n",
        "* Polymorphism makes it easier to add new classes with their own unique behaviors while still using the same interfaces.\n",
        "\n",
        "* You can add new classes that are compatible with existing code without changing the code that uses polymorphism.\n",
        "\n",
        "* This promotes open/closed principle (open for extension, closed for modification).\n",
        "\n",
        "**4. Dynamic Behavior:**\n",
        "\n",
        "* Polymorphism allows dynamic method binding (or late binding), where the method to be executed is determined at runtime, not compile time.\n",
        "\n",
        "* This is particularly useful in scenarios where you don't know the exact type of object in advance but want to invoke a common method for different types.\n",
        "\n",
        "**5. Enhances Design:**\n",
        "\n",
        "* Polymorphism facilitates the use of abstract interfaces or base classes, letting you work with objects in a more abstract way.\n",
        "\n",
        "* It enables you to define common behaviors across different objects and their specific implementations in subclasses."
      ],
      "metadata": {
        "id": "HECGKBM1m6fR"
      }
    },
    {
      "cell_type": "markdown",
      "source": [
        "\n",
        "\n",
        "---\n",
        "\n"
      ],
      "metadata": {
        "id": "STC6UW0zntGI"
      }
    },
    {
      "cell_type": "markdown",
      "source": [
        "**Q15.What is an abstract class in Python?**"
      ],
      "metadata": {
        "id": "aTx9bQCinu3J"
      }
    },
    {
      "cell_type": "markdown",
      "source": [
        "Ans:An abstract class in Python is a class that cannot be instantiated directly. It serves as a blueprint for other classes. Abstract classes are used to define common interfaces and behaviors that must be implemented by subclasses.\n",
        "\n",
        "\n",
        "Key Points:\n",
        "\n",
        "**Abstract Methods:** These are methods that are declared in an abstract class but do not have any implementation. Subclasses must provide an implementation for these methods.\n",
        "\n",
        "**abc Module**: abc (Abstract Base Class) module in Python provides the necessary tools to define abstract classes and abstract methods.\n",
        "\n",
        "**Purpose:** Abstract classes are used to define a common interface for subclasses, enforcing them to implement certain methods.\n",
        "\n",
        "**Syntax:**\n",
        "\n",
        "Use ABC as a base class.\n",
        "\n",
        "Mark abstract methods with the @abstractmethod decorator."
      ],
      "metadata": {
        "id": "sWZeodvwn0KB"
      }
    },
    {
      "cell_type": "markdown",
      "source": [
        "\n",
        "\n",
        "---\n",
        "\n"
      ],
      "metadata": {
        "id": "eCaXFiP7oQop"
      }
    },
    {
      "cell_type": "markdown",
      "source": [
        "**Q16.What are the advantages of OOP?**"
      ],
      "metadata": {
        "id": "C8CWkPatoRoQ"
      }
    },
    {
      "cell_type": "markdown",
      "source": [
        "Ans:Object-Oriented Programming (OOP) offers several advantages that make it a widely-used programming paradigm, especially for large-scale software development. Some key advantages of OOP are:\n",
        "\n",
        "\n",
        "**1. Modularity:**\n",
        "\n",
        "* OOP allows the software to be broken down into smaller, manageable modules (objects or classes). Each module is self-contained, meaning you can work on one part of the system without affecting others.\n",
        "\n",
        "* This leads to better code organization and easier debugging.\n",
        "\n",
        "**2. Reusability:**\n",
        "\n",
        "* Once a class is created, it can be reused in different parts of the program or even in different programs. This is achieved through inheritance and composition.\n",
        "\n",
        "* Reusable code reduces redundancy and helps in maintaining and updating the codebase.\n",
        "\n",
        "**3. Scalability and Maintainability:**\n",
        "\n",
        "* OOP helps in scaling applications by adding new classes or modifying existing ones without disrupting the rest of the system.\n",
        "\n",
        "* Due to the modular design and clear structure, OOP makes it easier to maintain and extend the system over time.\n",
        "\n",
        "**4. Encapsulation:**\n",
        "\n",
        "* OOP promotes data hiding by encapsulating data (attributes) and methods (functions) into objects. This means the internal state of an object is protected and can only be accessed or modified through well-defined interfaces.\n",
        "\n",
        "* Encapsulation reduces the risk of accidental interference and ensures data integrity.\n",
        "\n",
        "**5. Abstraction:**\n",
        "\n",
        "* OOP provides a way to abstract complex systems by modeling real-world entities as objects, hiding implementation details, and focusing on essential features.\n",
        "\n",
        "* This simplifies interaction with the system by providing clear interfaces.\n",
        "\n",
        "**6. Inheritance:**\n",
        "\n",
        "* Inheritance allows new classes to inherit behavior (methods) and attributes from existing classes, promoting code reuse and reducing duplication.\n",
        "\n",
        "* It also supports hierarchical classification, which models real-world relationships, leading to more intuitive designs.\n",
        "\n",
        "**7. Polymorphism:**\n",
        "\n",
        "* Polymorphism allows the same interface to be used for different types of objects, enabling more flexible and dynamic systems.\n",
        "\n",
        "* This allows for writing more generic code that works with different types of objects, improving code extensibility.\n",
        "\n",
        "**8. Flexibility and Extensibility:**\n",
        "\n",
        "* OOP makes it easier to extend the system by adding new functionality with minimal changes to existing code. The use of polymorphism, inheritance, and abstraction ensures the system can evolve without requiring significant restructuring.\n",
        "\n",
        "**9. Better Collaboration:**\n",
        "\n",
        "* Since OOP divides the system into objects, multiple developers can work on different objects or classes simultaneously without interfering with each other's work. This promotes better team collaboration.\n",
        "\n",
        "**10. Real-World Modeling:**\n",
        "\n",
        "* OOP is designed to model real-world objects and relationships, making it easier to understand and represent complex systems using familiar structures like objects, classes, and inheritance."
      ],
      "metadata": {
        "id": "LpLzMAjWoZK4"
      }
    },
    {
      "cell_type": "markdown",
      "source": [
        "\n",
        "\n",
        "---\n",
        "\n"
      ],
      "metadata": {
        "id": "mh6eId9kqtdB"
      }
    },
    {
      "cell_type": "markdown",
      "source": [
        "**Q17.What is the difference between a class variable and an instance variable?**"
      ],
      "metadata": {
        "id": "JQyVCIP2qlQZ"
      }
    },
    {
      "cell_type": "markdown",
      "source": [
        "Ans:In Object-Oriented Programming (OOP), class variables and instance variables are two types of variables that differ in scope, behavior, and usage. Here's a breakdown of the key differences between them:\n",
        "\n",
        "**1. Class Variable:**\n",
        "\n",
        "* Definition: A class variable is a variable that is shared among all instances of a class. It is defined directly within the class and is not tied to any specific object instance.\n",
        "\n",
        "* Scope: Class variables are accessible by all instances of the class, and they are typically used for values that are the same across all objects.\n",
        "\n",
        "* Access: They can be accessed via the class name or through an instance of the class, but modifying them through the class name is recommended.\n",
        "\n",
        "**2. Instance Variable:**\n",
        "\n",
        "* Definition: An instance variable is a variable that is tied to a specific instance (object) of the class. Each object created from the class can have its own unique values for instance variables.\n",
        "\n",
        "* Scope: Instance variables are unique to each object and cannot be shared between instances.\n",
        "\n",
        "* Access: They are typically accessed via the object instance."
      ],
      "metadata": {
        "id": "6viT3phEqush"
      }
    },
    {
      "cell_type": "markdown",
      "source": [
        "\n",
        "\n",
        "---\n",
        "\n"
      ],
      "metadata": {
        "id": "pYqScimrrYSy"
      }
    },
    {
      "cell_type": "markdown",
      "source": [
        "**Q18. What is multiple inheritance in Python?**"
      ],
      "metadata": {
        "id": "rFt7Q601rbPS"
      }
    },
    {
      "cell_type": "markdown",
      "source": [
        "Ans:Multiple inheritance in Python is a feature that allows a class to inherit attributes and methods from more than one parent class. This enables the creation of classes that can combine behaviors from multiple sources, which can be useful in many cases.\n",
        "\n",
        "Key Points:\n",
        "\n",
        "* A class can inherit from two or more parent classes.\n",
        "\n",
        "* The child class inherits all the attributes and methods of its parent classes.\n",
        "\n",
        "* Python resolves method calls using the Method Resolution Order (MRO), ensuring that the methods from parent classes are called in a defined order."
      ],
      "metadata": {
        "id": "IbKs6itzrhnJ"
      }
    },
    {
      "cell_type": "markdown",
      "source": [
        "\n",
        "\n",
        "---\n",
        "\n"
      ],
      "metadata": {
        "id": "BJsgaS6hrwFK"
      }
    },
    {
      "cell_type": "markdown",
      "source": [
        "**Q19.Explain the purpose of ‘’__str__’ and ‘__repr__’ ‘ methods in Python?**"
      ],
      "metadata": {
        "id": "lSITs42lrxYx"
      }
    },
    {
      "cell_type": "markdown",
      "source": [
        "Ans:In Python, both __str__ and __repr__ are special methods (also known as dunder methods) that control how objects are represented as strings. They serve different purposes, and understanding their use helps in debugging and displaying objects in a user-friendly or developer-friendly manner.\n",
        "\n",
        "**1. __str__ Method:**\n",
        "\n",
        "* Purpose: The __str__ method is used to define a human-readable string representation of an object. When you call str() on an object or print the object, Python will use the __str__ method to return a string.\n",
        "\n",
        "* Use Case: It's meant to give a meaningful, easy-to-read string representation of the object, useful for end users.\n",
        "\n",
        "**2. __repr__ Method:**\n",
        "\n",
        "* Purpose: The __repr__ method is used to define a developer-friendly string representation of an object. When you call repr() on an object or when you enter the object in the Python interpreter, it uses the __repr__ method. The goal of __repr__ is to provide a representation that, if possible, can be used to recreate the object (i.e., the string should ideally be a valid Python expression).\n",
        "\n",
        "* Use Case: It is mainly used for debugging and logging purposes, offering a more precise, unambiguous representation of an object."
      ],
      "metadata": {
        "id": "lBcN2UE7r3nJ"
      }
    },
    {
      "cell_type": "markdown",
      "source": [
        "\n",
        "\n",
        "---\n",
        "\n"
      ],
      "metadata": {
        "id": "kkOAongNsNVy"
      }
    },
    {
      "cell_type": "markdown",
      "source": [
        "**Q20.What is the significance of the ‘super()’ function in Python?**"
      ],
      "metadata": {
        "id": "iaQBD6HcsOXq"
      }
    },
    {
      "cell_type": "markdown",
      "source": [
        "Ans:The super() function in Python is used to call methods from a parent class (superclass) in a child class (subclass). It plays a key role in inheritance, particularly when dealing with multiple inheritance or when overriding methods. The function allows you to invoke the parent class's methods in a controlled way without explicitly referencing the parent class by name.\n",
        "\n",
        "Key Points:\n",
        "\n",
        "* Calling Parent Methods: super() provides a way to call methods in a parent class, ensuring that the method resolution order (MRO) is followed correctly.\n",
        "\n",
        "* Avoiding Direct Parent Class Reference: It allows you to access the methods and attributes of the parent class without directly naming the parent class, making the code more maintainable and flexible.\n",
        "\n",
        "* Multiple Inheritance: In cases of multiple inheritance, super() helps Python determine the correct method to call from the method resolution order (MRO)."
      ],
      "metadata": {
        "id": "Zxf_H3kQsUh6"
      }
    },
    {
      "cell_type": "markdown",
      "source": [
        "\n",
        "\n",
        "---\n",
        "\n"
      ],
      "metadata": {
        "id": "LGCSivgcsjX5"
      }
    },
    {
      "cell_type": "markdown",
      "source": [
        "**Q21.What is the significance of the __del__ method in Python?**"
      ],
      "metadata": {
        "id": "G5CWznQBslQ6"
      }
    },
    {
      "cell_type": "markdown",
      "source": [
        "Ans:The __del__ method in Python is a special method that is used for destruction and cleanup of an object when it is no longer in use. It is commonly known as the destructor. When an object is about to be destroyed (i.e., when it is garbage collected), the __del__ method is called to perform any necessary cleanup tasks, such as closing files, releasing external resources, or freeing up memory.\n",
        "\n",
        "Key Points about __del__:\n",
        "\n",
        "* Object Cleanup: The __del__ method is used to release any resources (such as file handles, network connections, etc.) that the object might have acquired during its lifetime.\n",
        "\n",
        "* Automatic Call: It is automatically called when the object is about to be destroyed, i.e., when there are no more references to it, and Python's garbage collector removes it.\n",
        "\n",
        "* Not Guaranteed to Be Called Immediately: The exact time when the __del__ method is called depends on when the object is garbage collected. In CPython (the default Python implementation), it happens when the reference count drops to zero."
      ],
      "metadata": {
        "id": "UTTzKM0bstJR"
      }
    },
    {
      "cell_type": "markdown",
      "source": [
        "\n",
        "\n",
        "---\n",
        "\n"
      ],
      "metadata": {
        "id": "jcBcssVQs8-6"
      }
    },
    {
      "cell_type": "markdown",
      "source": [
        "**Q22.What is the difference between @staticmethod and @classmethod in Python?**"
      ],
      "metadata": {
        "id": "sojU-8ams-J6"
      }
    },
    {
      "cell_type": "markdown",
      "source": [
        "Ans:In Python, both @staticmethod and @classmethod are used to define methods that are not bound to an instance of the class. However, they differ in how they are used and what they operate on. Here's a breakdown of the key differences:\n",
        "\n",
        "**1. @staticmethod:**\n",
        "\n",
        "* A static method doesn't take any reference to the instance or the class itself (i.e., it doesn't take self or cls as the first parameter).\n",
        "\n",
        "* It is used when you want to define a method that doesn't need access to any instance or class-level data but still belongs logically to the class.\n",
        "\n",
        "* Static methods can be called on both the class and its instances.\n",
        "\n",
        "**2. @classmethod:**\n",
        "\n",
        "* A class method takes cls as the first parameter, which refers to the class itself, not an instance. It can access and modify class-level attributes and methods.\n",
        "\n",
        "* Class methods are often used for factory methods, or methods that operate on the class state rather than an instance's state.\n",
        "\n",
        "* Class methods can be called on both the class and an instance."
      ],
      "metadata": {
        "id": "RlKyde-utHui"
      }
    },
    {
      "cell_type": "markdown",
      "source": [
        "\n",
        "\n",
        "---\n",
        "\n"
      ],
      "metadata": {
        "id": "_GeluSXStbnq"
      }
    },
    {
      "cell_type": "markdown",
      "source": [
        "**Q23.How does polymorphism work in Python with inheritance?**"
      ],
      "metadata": {
        "id": "zGiYaQxqtcyi"
      }
    },
    {
      "cell_type": "markdown",
      "source": [
        "Ans:Polymorphism in Python refers to the ability of different classes to provide a common interface for methods, allowing them to be used interchangeably. It allows objects of different classes to be treated as instances of a common class, typically through inheritance. With inheritance, polymorphism allows a subclass to override or extend methods from a parent class, while still adhering to a common interface.\n",
        "\n",
        "**Key Concepts of Polymorphism in Python:**\n",
        "\n",
        "* Method Overriding: Subclasses can override methods from the parent class. This means the method in the subclass will have the same name but different behavior.\n",
        "\n",
        "* Dynamic Method Resolution: Python allows you to call a method on an object without knowing the exact type of the object (as long as it implements the method). Python will automatically call the correct method based on the object’s class.\n",
        "\n",
        "* Common Interface: Different classes may implement the same method signature (name and parameters), but each may implement it in its own way.\n"
      ],
      "metadata": {
        "id": "Y8iH8f89tkWr"
      }
    },
    {
      "cell_type": "markdown",
      "source": [
        "\n",
        "\n",
        "---\n",
        "\n"
      ],
      "metadata": {
        "id": "6Aoke_a5tz6Z"
      }
    },
    {
      "cell_type": "markdown",
      "source": [
        "**Q24.What is method chaining in Python OOP?**"
      ],
      "metadata": {
        "id": "9QWvSH4Kt1FZ"
      }
    },
    {
      "cell_type": "markdown",
      "source": [
        "Ans:\n",
        "Method chaining in Python refers to the technique of calling multiple methods on the same object in a single line, one after the other. This is achieved by having each method return the object itself (or a modified version of it), allowing you to chain successive method calls.\n",
        "\n",
        "How It Works:\n",
        "\n",
        "* In method chaining, each method in the chain returns the object (usually self), which allows you to call another method on the same object without needing to reference the object again.\n",
        "\n",
        "Benefits of Method Chaining:\n",
        "\n",
        "* Conciseness: Allows multiple method calls to be written in a single line, reducing the need for intermediate variables.\n",
        "\n",
        "* Improved Readability: It can make code more compact and easier to read, especially when working with a series of transformations on an object.\n",
        "\n",
        "* Fluent API: Method chaining is often used in fluent interfaces, where an object can be configured in a series of chained method calls."
      ],
      "metadata": {
        "id": "uTWa76Wpt8XT"
      }
    },
    {
      "cell_type": "markdown",
      "source": [
        "\n",
        "\n",
        "---\n",
        "\n"
      ],
      "metadata": {
        "id": "Z8m--HZ0uSJR"
      }
    },
    {
      "cell_type": "markdown",
      "source": [
        "**Q25.What is the purpose of the __call__ method in Python?**"
      ],
      "metadata": {
        "id": "XyodJ8gsuT-8"
      }
    },
    {
      "cell_type": "markdown",
      "source": [
        "Ans:The __call__ method in Python allows an instance of a class to be called like a function. This means that you can use an object of a class as if it were a function, by invoking it with parentheses (). When you call the object, the __call__ method is executed.\n",
        "\n",
        "Purpose of __call__:\n",
        "\n",
        "* Make an Object Callable: It allows instances of a class to be called directly, just like functions, without explicitly invoking a method.\n",
        "\n",
        "* Custom Behavior on Object Call: You can define custom behavior for when an object is called, which can be useful in certain situations, like when implementing function-like behavior for an object.\n",
        "\n",
        "* Decorator and Callback Implementations: It's commonly used in decorators, callbacks, or when you want an object to act like a function for particular tasks."
      ],
      "metadata": {
        "id": "mEjQYQZMubIq"
      }
    },
    {
      "cell_type": "markdown",
      "source": [
        "\n",
        "\n",
        "---\n",
        "\n"
      ],
      "metadata": {
        "id": "7Q2YxmsVutTr"
      }
    },
    {
      "cell_type": "markdown",
      "source": [
        "# Practical Questions"
      ],
      "metadata": {
        "id": "kbUZZ1n6kdNH"
      }
    },
    {
      "cell_type": "markdown",
      "source": [
        "**Q1.1. Create a parent class Animal with a method speak() that prints a generic message. Create a child class Dog\n",
        "that overrides the speak() method to print \"Bark!\".**\n",
        "\n",
        "Ans:"
      ],
      "metadata": {
        "id": "8z6Lsocakmf2"
      }
    },
    {
      "cell_type": "code",
      "source": [
        "class Animal:\n",
        "  def speak(self):\n",
        "    print(\"generic message\")\n",
        "\n",
        "class Dog(Animal):\n",
        "  def speak(self):\n",
        "    print(\"bark\")"
      ],
      "metadata": {
        "id": "_KY2DxvAdfwm"
      },
      "execution_count": null,
      "outputs": []
    },
    {
      "cell_type": "code",
      "source": [
        "# now we create a instance of Dog\n",
        "\n",
        "dog = Dog()"
      ],
      "metadata": {
        "id": "ycsMmq4lmTxB"
      },
      "execution_count": null,
      "outputs": []
    },
    {
      "cell_type": "code",
      "source": [
        "dog.speak()"
      ],
      "metadata": {
        "colab": {
          "base_uri": "https://localhost:8080/"
        },
        "id": "lzF-n7IGmqTn",
        "outputId": "82048395-b928-43b4-f1df-4be1c89410f1"
      },
      "execution_count": null,
      "outputs": [
        {
          "output_type": "stream",
          "name": "stdout",
          "text": [
            "bark\n"
          ]
        }
      ]
    },
    {
      "cell_type": "markdown",
      "source": [
        "\n",
        "\n",
        "---\n",
        "\n"
      ],
      "metadata": {
        "id": "DsfFYTTjn6LG"
      }
    },
    {
      "cell_type": "markdown",
      "source": [
        "**Q2. Write a program to create an abstract class Shape with a method area(). Derive classes Circle and Rectangle\n",
        "from it and implement the area() method in both.**\n",
        "\n",
        "Ans:\n",
        "\n",
        "\n"
      ],
      "metadata": {
        "id": "g8zlkg5mmxX2"
      }
    },
    {
      "cell_type": "code",
      "source": [
        "from abc import ABC, abstractmethod\n",
        "import math\n",
        "\n",
        "class Shape(ABC):\n",
        "    @abstractmethod\n",
        "    def area(self):\n",
        "        pass\n",
        "\n",
        "class Circle(Shape):\n",
        "    def __init__(self, radius):\n",
        "        self.radius = radius\n",
        "\n",
        "    def area(self):\n",
        "        return math.pi * self.radius ** 2\n",
        "\n",
        "\n",
        "class Rectangle(Shape):\n",
        "    def __init__(self, width, height):\n",
        "        self.width = width\n",
        "        self.height = height\n",
        "\n",
        "    def area(self):\n",
        "        return self.width * self.height\n"
      ],
      "metadata": {
        "id": "jDBbugJcmugP"
      },
      "execution_count": null,
      "outputs": []
    },
    {
      "cell_type": "code",
      "source": [
        "circle = Circle(5)"
      ],
      "metadata": {
        "id": "rGblYYd4nZqg"
      },
      "execution_count": null,
      "outputs": []
    },
    {
      "cell_type": "code",
      "source": [
        "rectangle = Rectangle(4, 6)"
      ],
      "metadata": {
        "id": "4a54e5LznqGH"
      },
      "execution_count": null,
      "outputs": []
    },
    {
      "cell_type": "code",
      "source": [
        "print(\"Area of Circle:\", circle.area())\n",
        "print(\"Area of Rectangle:\", rectangle.area())"
      ],
      "metadata": {
        "colab": {
          "base_uri": "https://localhost:8080/"
        },
        "id": "m8TOT13Kntke",
        "outputId": "017959ec-e210-4e7f-80ad-d333c274f282"
      },
      "execution_count": null,
      "outputs": [
        {
          "output_type": "stream",
          "name": "stdout",
          "text": [
            "Area of Circle: 78.53981633974483\n",
            "Area of Rectangle: 24\n"
          ]
        }
      ]
    },
    {
      "cell_type": "markdown",
      "source": [
        "\n",
        "\n",
        "---\n",
        "\n"
      ],
      "metadata": {
        "id": "1CDKTE_4n72d"
      }
    },
    {
      "cell_type": "markdown",
      "source": [
        "**Q3. Implement a multi-level inheritance scenario where a class Vehicle has an attribute type. Derive a class Car\n",
        "and further derive a class ElectricCar that adds a battery attribute.**\n",
        "\n",
        "Ans:"
      ],
      "metadata": {
        "id": "9BsfSKh6n9Dd"
      }
    },
    {
      "cell_type": "code",
      "source": [
        "class Vehicle():\n",
        "    def type(self):\n",
        "        print(\"electric_car\")\n",
        "\n",
        "class Car(Vehicle):\n",
        "    def model(self):\n",
        "        print(\"tesla\")\n",
        "\n",
        "class Electric_car(Car):\n",
        "    def battery(self):\n",
        "        print(\"this car has 75 battery\")\n"
      ],
      "metadata": {
        "id": "CefiuYtMn0QO"
      },
      "execution_count": null,
      "outputs": []
    },
    {
      "cell_type": "code",
      "source": [
        "elct=Electric_car()"
      ],
      "metadata": {
        "id": "CPlwpYGruUYM"
      },
      "execution_count": null,
      "outputs": []
    },
    {
      "cell_type": "code",
      "source": [
        "elct.type()"
      ],
      "metadata": {
        "colab": {
          "base_uri": "https://localhost:8080/"
        },
        "id": "-SUcELliuYcs",
        "outputId": "2be7625b-05e4-4225-b291-342bfaaacdb2"
      },
      "execution_count": null,
      "outputs": [
        {
          "output_type": "stream",
          "name": "stdout",
          "text": [
            "electric_car\n"
          ]
        }
      ]
    },
    {
      "cell_type": "code",
      "source": [
        "elct.model()"
      ],
      "metadata": {
        "colab": {
          "base_uri": "https://localhost:8080/"
        },
        "id": "WKaELG2CufHM",
        "outputId": "c93ca87f-bc4b-4bfe-fc7f-ac336e032e07"
      },
      "execution_count": null,
      "outputs": [
        {
          "output_type": "stream",
          "name": "stdout",
          "text": [
            "tesla\n"
          ]
        }
      ]
    },
    {
      "cell_type": "code",
      "source": [
        "elct.battery()"
      ],
      "metadata": {
        "colab": {
          "base_uri": "https://localhost:8080/"
        },
        "id": "e3BHwYOGuihs",
        "outputId": "5c61cf32-afe6-42d8-b167-4d8d4e753ae0"
      },
      "execution_count": null,
      "outputs": [
        {
          "output_type": "stream",
          "name": "stdout",
          "text": [
            "this car has 75 battery\n"
          ]
        }
      ]
    },
    {
      "cell_type": "markdown",
      "source": [
        "\n",
        "\n",
        "---\n",
        "\n"
      ],
      "metadata": {
        "id": "Y4lbfCCGuqTb"
      }
    },
    {
      "cell_type": "markdown",
      "source": [
        "**Q4 is same as Q3  Q4 is rapeat of Q3**"
      ],
      "metadata": {
        "id": "BHtp-kZ7urlK"
      }
    },
    {
      "cell_type": "markdown",
      "source": [
        "\n",
        "\n",
        "---\n",
        "\n"
      ],
      "metadata": {
        "id": "yHTbwgzpvRDB"
      }
    },
    {
      "cell_type": "markdown",
      "source": [
        "**Q5. Write a program to demonstrate encapsulation by creating a class BankAccount with private attributes\n",
        "balance and methods to deposit, withdraw, and check balance.**\n",
        "\n",
        "Ans:"
      ],
      "metadata": {
        "id": "KsCYry0CvSra"
      }
    },
    {
      "cell_type": "code",
      "source": [
        "class Bank:\n",
        "    def __init__(self,balance):\n",
        "        self.__balance=balance\n",
        "\n",
        "    def deposit(self,amount):\n",
        "        self.__balance=self.__balance+amount\n",
        "\n",
        "    def withdrawl (self,amount):\n",
        "        if self.__balance>=amount:\n",
        "            self.__balance=self.__balance-amount\n",
        "            return True\n",
        "\n",
        "        else:\n",
        "\n",
        "              return False\n",
        "\n",
        "    def get_balance(self):\n",
        "        return self.__balance\n"
      ],
      "metadata": {
        "id": "7HCXGKuKum8j"
      },
      "execution_count": null,
      "outputs": []
    },
    {
      "cell_type": "code",
      "source": [
        "Acc=Bank(1000)  #here i have 1000 in my bank"
      ],
      "metadata": {
        "id": "FrS61iyJ04hh"
      },
      "execution_count": null,
      "outputs": []
    },
    {
      "cell_type": "code",
      "source": [
        "Acc.deposit(500) #i have deposit 500"
      ],
      "metadata": {
        "id": "F6rL2Tj40_ko"
      },
      "execution_count": null,
      "outputs": []
    },
    {
      "cell_type": "code",
      "source": [
        "Acc.get_balance() #now i check my balance"
      ],
      "metadata": {
        "colab": {
          "base_uri": "https://localhost:8080/"
        },
        "id": "ySRJlPMM1MnM",
        "outputId": "cfd23090-ebb5-4acd-c2b6-69a97828ad39"
      },
      "execution_count": null,
      "outputs": [
        {
          "output_type": "execute_result",
          "data": {
            "text/plain": [
              "1500"
            ]
          },
          "metadata": {},
          "execution_count": 22
        }
      ]
    },
    {
      "cell_type": "code",
      "source": [
        "Acc.withdrawl(100) #here i make withrawl of 100"
      ],
      "metadata": {
        "colab": {
          "base_uri": "https://localhost:8080/"
        },
        "id": "X-pP0xQw1ZqI",
        "outputId": "67438d01-2b5a-4ad1-b034-d4613ebdfd6e"
      },
      "execution_count": null,
      "outputs": [
        {
          "output_type": "execute_result",
          "data": {
            "text/plain": [
              "True"
            ]
          },
          "metadata": {},
          "execution_count": 28
        }
      ]
    },
    {
      "cell_type": "code",
      "source": [
        "Acc.get_balance() #now my balance is 900"
      ],
      "metadata": {
        "colab": {
          "base_uri": "https://localhost:8080/"
        },
        "id": "MKWvscOU1lc3",
        "outputId": "701ef565-39fe-44f5-c9a7-bc0167dc542c"
      },
      "execution_count": null,
      "outputs": [
        {
          "output_type": "execute_result",
          "data": {
            "text/plain": [
              "900"
            ]
          },
          "metadata": {},
          "execution_count": 29
        }
      ]
    },
    {
      "cell_type": "markdown",
      "source": [
        "\n",
        "\n",
        "---\n",
        "\n"
      ],
      "metadata": {
        "id": "ChwfwMKz3hjg"
      }
    },
    {
      "cell_type": "markdown",
      "source": [
        "**Q6.Demonstrate runtime polymorphism using a method play() in a base class Instrument. Derive classes Guitar\n",
        "and Piano that implement their own version of play().**\n",
        "\n",
        "Ans:\n",
        "\n",
        "\n"
      ],
      "metadata": {
        "id": "nsi6In2Y3i4v"
      }
    },
    {
      "cell_type": "code",
      "source": [
        "class Instrument():\n",
        "    def play(self):\n",
        "        print(\"playing an instrument\")\n",
        "\n",
        "class Guitar(Instrument):\n",
        "    def play(self):\n",
        "        print(\"Strumming the guitar\")\n",
        "\n",
        "class Piano(Instrument):\n",
        "    def play(self):\n",
        "        print(\"Playing the piano keys\")\n"
      ],
      "metadata": {
        "id": "e9Hn3NGv23R3"
      },
      "execution_count": null,
      "outputs": []
    },
    {
      "cell_type": "code",
      "source": [
        "guitar=Guitar()"
      ],
      "metadata": {
        "id": "uFCIf1rP70FV"
      },
      "execution_count": null,
      "outputs": []
    },
    {
      "cell_type": "code",
      "source": [
        "piano=Piano()"
      ],
      "metadata": {
        "id": "D0Vt0yh173f1"
      },
      "execution_count": null,
      "outputs": []
    },
    {
      "cell_type": "code",
      "source": [
        "instruments=[guitar,piano]"
      ],
      "metadata": {
        "id": "KgPpER-N76MN"
      },
      "execution_count": null,
      "outputs": []
    },
    {
      "cell_type": "code",
      "source": [
        "def parcar(instruments):\n",
        "    for i in instruments:\n",
        "        i.play()"
      ],
      "metadata": {
        "id": "pGHSkYBK7879"
      },
      "execution_count": null,
      "outputs": []
    },
    {
      "cell_type": "code",
      "source": [
        "parcar(instruments)"
      ],
      "metadata": {
        "colab": {
          "base_uri": "https://localhost:8080/"
        },
        "id": "lpMD3pBY8ANV",
        "outputId": "1907c31c-3d3e-4bb4-ab6b-0a0308e60703"
      },
      "execution_count": null,
      "outputs": [
        {
          "output_type": "stream",
          "name": "stdout",
          "text": [
            "Strumming the guitar\n",
            "Playing the piano keys\n"
          ]
        }
      ]
    },
    {
      "cell_type": "markdown",
      "source": [
        "\n",
        "\n",
        "---\n",
        "\n"
      ],
      "metadata": {
        "id": "rAU7hNoR8cgd"
      }
    },
    {
      "cell_type": "markdown",
      "source": [
        "**Q7.Create a class MathOperations with a class method add_numbers() to add two numbers and a static\n",
        "method subtract_numbers() to subtract two numbers.**\n",
        "\n",
        "Ans:"
      ],
      "metadata": {
        "id": "reoEBce_8d4M"
      }
    },
    {
      "cell_type": "code",
      "source": [
        "class  MathOperations:\n",
        "    @classmethod\n",
        "    def add_number(cls,num1,num2):\n",
        "        return num1+num2\n",
        "\n",
        "    @staticmethod\n",
        "    def subtract_number(num1,num2):\n",
        "        return num1-num2"
      ],
      "metadata": {
        "id": "bNnddO2mBgtj"
      },
      "execution_count": null,
      "outputs": []
    },
    {
      "cell_type": "code",
      "source": [
        "MathOperations.add_number(10,20)"
      ],
      "metadata": {
        "colab": {
          "base_uri": "https://localhost:8080/"
        },
        "id": "Z5P7oX06DLeK",
        "outputId": "fea50d2c-5024-4058-fb9c-54e509ca6e61"
      },
      "execution_count": null,
      "outputs": [
        {
          "output_type": "execute_result",
          "data": {
            "text/plain": [
              "30"
            ]
          },
          "metadata": {},
          "execution_count": 46
        }
      ]
    },
    {
      "cell_type": "code",
      "source": [
        "MathOperations.subtract_number(10,20)"
      ],
      "metadata": {
        "colab": {
          "base_uri": "https://localhost:8080/"
        },
        "id": "F9l3JOibDOtS",
        "outputId": "16e2dded-96cc-4651-91a9-4efd78f9f296"
      },
      "execution_count": null,
      "outputs": [
        {
          "output_type": "execute_result",
          "data": {
            "text/plain": [
              "-10"
            ]
          },
          "metadata": {},
          "execution_count": 49
        }
      ]
    },
    {
      "cell_type": "markdown",
      "source": [
        "\n",
        "\n",
        "---\n",
        "\n"
      ],
      "metadata": {
        "id": "EkgM1L1UDZJR"
      }
    },
    {
      "cell_type": "markdown",
      "source": [
        "**Q8.Implement a class Person with a class method to count the total number of persons created.**\n",
        "\n",
        "Ans:"
      ],
      "metadata": {
        "id": "XFw_1eU9DaZS"
      }
    },
    {
      "cell_type": "code",
      "source": [
        "class Person:\n",
        "    total_persons = 0\n",
        "\n",
        "    def __init__(self, name):\n",
        "        self.name = name\n",
        "        Person.total_persons=Person.total_persons+1\n",
        "\n",
        "    @classmethod\n",
        "    def get_total_persons(cls):\n",
        "        return cls.total_persons"
      ],
      "metadata": {
        "id": "VUdCV6HeDTDh"
      },
      "execution_count": null,
      "outputs": []
    },
    {
      "cell_type": "code",
      "source": [
        "Person.get_total_persons()"
      ],
      "metadata": {
        "colab": {
          "base_uri": "https://localhost:8080/"
        },
        "id": "QMm-DuKQFRAh",
        "outputId": "4a46f5b0-22ec-4429-e6ab-d6aff0a3702e"
      },
      "execution_count": null,
      "outputs": [
        {
          "output_type": "execute_result",
          "data": {
            "text/plain": [
              "0"
            ]
          },
          "metadata": {},
          "execution_count": 62
        }
      ]
    },
    {
      "cell_type": "code",
      "source": [
        "per1=Person(\"gurwinder\")\n",
        "per2=Person(\"anjali\")"
      ],
      "metadata": {
        "id": "4XNQtr8iFXLR"
      },
      "execution_count": null,
      "outputs": []
    },
    {
      "cell_type": "code",
      "source": [
        "Person.get_total_persons()"
      ],
      "metadata": {
        "colab": {
          "base_uri": "https://localhost:8080/"
        },
        "id": "sND0F7P0GGvw",
        "outputId": "5147c6a4-7dce-4d7d-cd12-022cac09dfae"
      },
      "execution_count": null,
      "outputs": [
        {
          "output_type": "execute_result",
          "data": {
            "text/plain": [
              "2"
            ]
          },
          "metadata": {},
          "execution_count": 64
        }
      ]
    },
    {
      "cell_type": "markdown",
      "source": [
        "\n",
        "\n",
        "---\n",
        "\n"
      ],
      "metadata": {
        "id": "Zn_ozEXzxcU3"
      }
    },
    {
      "cell_type": "markdown",
      "source": [
        "**Q9.Write a class Fraction with attributes numerator and denominator. Override the str method to display the\n",
        "fraction as \"numerator/denominator\".**\n",
        "\n",
        "Ans:"
      ],
      "metadata": {
        "id": "Pia79ACnxeEW"
      }
    },
    {
      "cell_type": "code",
      "source": [
        "class Fraction:\n",
        "    def __init__(self, numerator, denominator):\n",
        "        self.numerator = numerator\n",
        "        self.denominator = denominator\n",
        "\n",
        "    def __str__(self):\n",
        "        return f\"{self.numerator}/{self.denominator}\"\n",
        "\n",
        "\n",
        "fraction = Fraction(3, 4)\n",
        "print(fraction)\n"
      ],
      "metadata": {
        "id": "jXkvIdebGKPA",
        "colab": {
          "base_uri": "https://localhost:8080/"
        },
        "outputId": "aed1a184-d7b2-4ee0-bf9e-14c8868ba16b"
      },
      "execution_count": 1,
      "outputs": [
        {
          "output_type": "stream",
          "name": "stdout",
          "text": [
            "3/4\n"
          ]
        }
      ]
    },
    {
      "cell_type": "markdown",
      "source": [
        "\n",
        "\n",
        "---\n",
        "\n"
      ],
      "metadata": {
        "id": "l_3Igd-rzbkX"
      }
    },
    {
      "cell_type": "markdown",
      "source": [
        "**Q10.Demonstrate operator overloading by creating a class Vector and overriding the add method to add two\n",
        "vectors**\n",
        "\n",
        "Ans:"
      ],
      "metadata": {
        "id": "SNeGTkegzdr_"
      }
    },
    {
      "cell_type": "code",
      "source": [
        "class Vector:\n",
        "    def __init__(self, x, y):\n",
        "        self.x = x\n",
        "        self.y = y\n",
        "\n",
        "    def __add__(self, other):\n",
        "        return Vector(self.x + other.x, self.y + other.y)\n",
        "\n",
        "    def __str__(self):\n",
        "        return f\"({self.x}, {self.y})\"\n",
        "\n",
        "\n"
      ],
      "metadata": {
        "id": "-kZqfuxozT0d"
      },
      "execution_count": 2,
      "outputs": []
    },
    {
      "cell_type": "code",
      "source": [
        "v1 = Vector(1, 2)\n",
        "v2 = Vector(3, 4)\n",
        "result = v1 + v2\n",
        "print(result)\n"
      ],
      "metadata": {
        "colab": {
          "base_uri": "https://localhost:8080/"
        },
        "id": "XOiURzMd0DzN",
        "outputId": "44d69bef-3380-4d09-9639-c39784f187d9"
      },
      "execution_count": 3,
      "outputs": [
        {
          "output_type": "stream",
          "name": "stdout",
          "text": [
            "(4, 6)\n"
          ]
        }
      ]
    },
    {
      "cell_type": "markdown",
      "source": [
        "\n",
        "\n",
        "---\n",
        "\n"
      ],
      "metadata": {
        "id": "2EhvrjeM0GN2"
      }
    },
    {
      "cell_type": "markdown",
      "source": [
        "**Q11.Create a class Person with attributes name and age. Add a method greet() that prints \"Hello, my name is\n",
        "{name} and I am {age} years old.**\n",
        "\n",
        "Ans:"
      ],
      "metadata": {
        "id": "NjM7Uu730HmW"
      }
    },
    {
      "cell_type": "code",
      "source": [
        "class Person:\n",
        "    def __init__(self, name, age):\n",
        "        self.name = name\n",
        "        self.age = age\n",
        "\n",
        "    def greet(self):\n",
        "        print(f\"Hello, my name is {self.name} and I am {self.age} years old.\")"
      ],
      "metadata": {
        "id": "cUqj5e120G58"
      },
      "execution_count": 6,
      "outputs": []
    },
    {
      "cell_type": "code",
      "source": [
        "person=Person(\"guri\",22)"
      ],
      "metadata": {
        "id": "BrDM3u-Q0zJj"
      },
      "execution_count": 7,
      "outputs": []
    },
    {
      "cell_type": "code",
      "source": [
        "person.age"
      ],
      "metadata": {
        "colab": {
          "base_uri": "https://localhost:8080/"
        },
        "id": "4sPqNjx40-Mr",
        "outputId": "08d72a77-9f54-4c1a-becb-50e8baf852dc"
      },
      "execution_count": 8,
      "outputs": [
        {
          "output_type": "execute_result",
          "data": {
            "text/plain": [
              "22"
            ]
          },
          "metadata": {},
          "execution_count": 8
        }
      ]
    },
    {
      "cell_type": "code",
      "source": [
        "person.name"
      ],
      "metadata": {
        "colab": {
          "base_uri": "https://localhost:8080/",
          "height": 35
        },
        "id": "z_m0y9as1Arz",
        "outputId": "2ac42bcc-6745-43e7-e354-acfa250e1551"
      },
      "execution_count": 9,
      "outputs": [
        {
          "output_type": "execute_result",
          "data": {
            "text/plain": [
              "'guri'"
            ],
            "application/vnd.google.colaboratory.intrinsic+json": {
              "type": "string"
            }
          },
          "metadata": {},
          "execution_count": 9
        }
      ]
    },
    {
      "cell_type": "markdown",
      "source": [
        "\n",
        "\n",
        "---\n",
        "\n"
      ],
      "metadata": {
        "id": "eK1MOkKz1GpW"
      }
    },
    {
      "cell_type": "markdown",
      "source": [
        "**Q12.Implement a class Student with attributes name and grades. Create a method average_grade() to compute\n",
        "the average of the grades.**\n",
        "\n",
        "Ans:"
      ],
      "metadata": {
        "id": "1hm8IV_Y1HtP"
      }
    },
    {
      "cell_type": "code",
      "source": [
        "class Student:\n",
        "    def __init__(self, name, grades):\n",
        "        self.name = name\n",
        "        self.grades = grades\n",
        "\n",
        "    def average_grade(self):\n",
        "        self.average_grade = sum(self.grades) / len(self.grades)\n",
        "        return self.average_grade"
      ],
      "metadata": {
        "id": "mEspUvfv1Elr"
      },
      "execution_count": 22,
      "outputs": []
    },
    {
      "cell_type": "code",
      "source": [
        "student=Student(\"guri\",[10,20,30])"
      ],
      "metadata": {
        "id": "CQsMBQ0K1kUL"
      },
      "execution_count": 23,
      "outputs": []
    },
    {
      "cell_type": "code",
      "source": [
        "student.name"
      ],
      "metadata": {
        "colab": {
          "base_uri": "https://localhost:8080/",
          "height": 35
        },
        "id": "yxkLBrD61pAz",
        "outputId": "0771ae3e-5e49-4852-9066-f78d81f10a01"
      },
      "execution_count": 24,
      "outputs": [
        {
          "output_type": "execute_result",
          "data": {
            "text/plain": [
              "'guri'"
            ],
            "application/vnd.google.colaboratory.intrinsic+json": {
              "type": "string"
            }
          },
          "metadata": {},
          "execution_count": 24
        }
      ]
    },
    {
      "cell_type": "code",
      "source": [
        "student.grades"
      ],
      "metadata": {
        "colab": {
          "base_uri": "https://localhost:8080/"
        },
        "id": "z-x3p7p21rrL",
        "outputId": "771e84a1-33e1-4421-d558-fc3acfcf5e7c"
      },
      "execution_count": 26,
      "outputs": [
        {
          "output_type": "execute_result",
          "data": {
            "text/plain": [
              "[10, 20, 30]"
            ]
          },
          "metadata": {},
          "execution_count": 26
        }
      ]
    },
    {
      "cell_type": "code",
      "source": [
        "student.average_grade()"
      ],
      "metadata": {
        "colab": {
          "base_uri": "https://localhost:8080/"
        },
        "id": "hwWB0A982u1z",
        "outputId": "2b019bc7-50ba-419b-93d3-e68875d1a133"
      },
      "execution_count": 27,
      "outputs": [
        {
          "output_type": "execute_result",
          "data": {
            "text/plain": [
              "20.0"
            ]
          },
          "metadata": {},
          "execution_count": 27
        }
      ]
    },
    {
      "cell_type": "markdown",
      "source": [
        "\n",
        "\n",
        "---\n",
        "\n"
      ],
      "metadata": {
        "id": "R-sH5nmh2zn2"
      }
    },
    {
      "cell_type": "markdown",
      "source": [
        "**Q13.Create a class Rectangle with methods set_dimensions() to set the dimensions and area() to calculate the\n",
        "area.**\n",
        "\n",
        "Ans:"
      ],
      "metadata": {
        "id": "qIxVaHSg21fv"
      }
    },
    {
      "cell_type": "code",
      "source": [
        "class Rectangle:\n",
        "    def __init__(self, length, width):\n",
        "        self.length = length\n",
        "        self.width = width\n",
        "\n",
        "    def set_dimensions(self, length, width):\n",
        "        self.length = length\n",
        "        self.width = width\n",
        "\n",
        "    def area(self):\n",
        "        return self.length * self.width"
      ],
      "metadata": {
        "id": "N0dORp6L2yHD"
      },
      "execution_count": 34,
      "outputs": []
    },
    {
      "cell_type": "code",
      "source": [
        "rectangle=Rectangle(10,20)"
      ],
      "metadata": {
        "id": "JGpEddKI3P4r"
      },
      "execution_count": 35,
      "outputs": []
    },
    {
      "cell_type": "code",
      "source": [
        "rectangle.area()"
      ],
      "metadata": {
        "colab": {
          "base_uri": "https://localhost:8080/"
        },
        "id": "sQgaZdrs3m0i",
        "outputId": "7343a841-3f9f-49d9-9616-99569dfb2f38"
      },
      "execution_count": 36,
      "outputs": [
        {
          "output_type": "execute_result",
          "data": {
            "text/plain": [
              "200"
            ]
          },
          "metadata": {},
          "execution_count": 36
        }
      ]
    },
    {
      "cell_type": "markdown",
      "source": [
        "\n",
        "\n",
        "---\n",
        "\n"
      ],
      "metadata": {
        "id": "--e4OcPy3tCG"
      }
    },
    {
      "cell_type": "markdown",
      "source": [
        "**Q14.Create a class Employee with a method calculate_salary() that computes the salary based on hours worked\n",
        "and hourly rate. Create a derived class Manager that adds a bonus to the salary.**\n",
        "\n",
        "Ans:"
      ],
      "metadata": {
        "id": "-tCbO6K53uxW"
      }
    },
    {
      "cell_type": "code",
      "source": [
        "class Employee:\n",
        "    def __init__(self,name,hour_worked,hourly_rate):\n",
        "        self.name=name\n",
        "        self.hour_worked=hour_worked\n",
        "        self.hourly_rate=hourly_rate\n",
        "\n",
        "    def calculate_salary(self):\n",
        "        return self.hour_worked*self.hourly_rate\n",
        "\n",
        "class Manager(Employee):\n",
        "    def __init__(self, name, hours_worked, hourly_rate, bonus):\n",
        "        self.name = name\n",
        "        self.hour_worked = hours_worked\n",
        "        self.hourly_rate = hourly_rate\n",
        "        self.bonus = bonus\n",
        "\n",
        "    def calculate_bonus(self):\n",
        "        base_salary=self.hour_worked+self.hourly_rate\n",
        "        return base_salary+self.bonus\n",
        "\n"
      ],
      "metadata": {
        "id": "nLWaJLSk3pl7"
      },
      "execution_count": 37,
      "outputs": []
    },
    {
      "cell_type": "code",
      "source": [
        "employee=Employee(\"guri\",10,20)"
      ],
      "metadata": {
        "id": "SRhq8NEb7-ZK"
      },
      "execution_count": 39,
      "outputs": []
    },
    {
      "cell_type": "code",
      "source": [
        "employee.calculate_salary()"
      ],
      "metadata": {
        "colab": {
          "base_uri": "https://localhost:8080/"
        },
        "id": "gt2N0Sow8EwT",
        "outputId": "01407a74-d2dc-488e-d5c3-26b4eb8867cd"
      },
      "execution_count": 40,
      "outputs": [
        {
          "output_type": "execute_result",
          "data": {
            "text/plain": [
              "200"
            ]
          },
          "metadata": {},
          "execution_count": 40
        }
      ]
    },
    {
      "cell_type": "code",
      "source": [
        "manager=Manager(\"ajay\",12,34,566)"
      ],
      "metadata": {
        "id": "nEs0B0JA8G6C"
      },
      "execution_count": 41,
      "outputs": []
    },
    {
      "cell_type": "code",
      "source": [
        "manager.calculate_bonus()"
      ],
      "metadata": {
        "colab": {
          "base_uri": "https://localhost:8080/"
        },
        "id": "kVVf7afb8Qoq",
        "outputId": "11ef26de-f90e-4751-d77b-51def9ab0559"
      },
      "execution_count": 42,
      "outputs": [
        {
          "output_type": "execute_result",
          "data": {
            "text/plain": [
              "612"
            ]
          },
          "metadata": {},
          "execution_count": 42
        }
      ]
    },
    {
      "cell_type": "markdown",
      "source": [
        "\n",
        "\n",
        "---\n",
        "\n"
      ],
      "metadata": {
        "id": "xi7QDKce8ZgW"
      }
    },
    {
      "cell_type": "markdown",
      "source": [
        "**Q15.Create a class Product with attributes name, price, and quantity. Implement a method total_price() that\n",
        "calculates the total price of the product.**\n",
        "\n",
        "Ans:"
      ],
      "metadata": {
        "id": "h7kDMles8a32"
      }
    },
    {
      "cell_type": "code",
      "source": [
        "class Product:\n",
        "    def __init__(self, name, price, quantity):\n",
        "        self.name = name\n",
        "        self.price = price\n",
        "        self.quantity = quantity\n",
        "\n",
        "    def total_price(self):\n",
        "        return self.price * self.quantity"
      ],
      "metadata": {
        "id": "fTWPiPlU8TgK"
      },
      "execution_count": 43,
      "outputs": []
    },
    {
      "cell_type": "code",
      "source": [
        "product=Product(\"rtx 4090\",200000,3)"
      ],
      "metadata": {
        "id": "k0UjUGfM9CJi"
      },
      "execution_count": 46,
      "outputs": []
    },
    {
      "cell_type": "code",
      "source": [
        "product.name"
      ],
      "metadata": {
        "colab": {
          "base_uri": "https://localhost:8080/",
          "height": 35
        },
        "id": "-yKo-Sji9NS6",
        "outputId": "1f7dc0a5-b986-4d56-bf3d-878ef14aadf5"
      },
      "execution_count": 45,
      "outputs": [
        {
          "output_type": "execute_result",
          "data": {
            "text/plain": [
              "'rtx 4090'"
            ],
            "application/vnd.google.colaboratory.intrinsic+json": {
              "type": "string"
            }
          },
          "metadata": {},
          "execution_count": 45
        }
      ]
    },
    {
      "cell_type": "code",
      "source": [
        "product.total_price()"
      ],
      "metadata": {
        "colab": {
          "base_uri": "https://localhost:8080/"
        },
        "id": "E_GMQv_i9PVD",
        "outputId": "6781f1c2-bb36-49e4-972b-84785c3c78e8"
      },
      "execution_count": 48,
      "outputs": [
        {
          "output_type": "execute_result",
          "data": {
            "text/plain": [
              "600000"
            ]
          },
          "metadata": {},
          "execution_count": 48
        }
      ]
    },
    {
      "cell_type": "markdown",
      "source": [
        "\n",
        "\n",
        "---\n",
        "\n"
      ],
      "metadata": {
        "id": "XOr8y1RH9Y--"
      }
    },
    {
      "cell_type": "markdown",
      "source": [
        "**Q16.Create a class Animal with an abstract method sound(). Create two derived classes Cow and Sheep that\n",
        "implement the sound() method**\n",
        "\n",
        "Ans:"
      ],
      "metadata": {
        "id": "jydWyOnC9adn"
      }
    },
    {
      "cell_type": "code",
      "source": [
        "from abc import ABC, abstractmethod\n",
        "\n",
        "class Animal(ABC):\n",
        "    @abstractmethod\n",
        "    def sound(self):\n",
        "        pass\n",
        "\n",
        "class Cow(Animal):\n",
        "    def sound(self):\n",
        "        return \"Moo\"\n",
        "\n",
        "class Sheep(Animal):\n",
        "    def sound(self):\n",
        "        return \"Baa\"\n",
        "\n"
      ],
      "metadata": {
        "id": "yyWO3X7Q9VWK"
      },
      "execution_count": 49,
      "outputs": []
    },
    {
      "cell_type": "code",
      "source": [
        "cow=Cow()"
      ],
      "metadata": {
        "id": "bsP16ROA9yoi"
      },
      "execution_count": 51,
      "outputs": []
    },
    {
      "cell_type": "code",
      "source": [
        "cow.sound()"
      ],
      "metadata": {
        "colab": {
          "base_uri": "https://localhost:8080/",
          "height": 35
        },
        "id": "vGHRH6gF97vS",
        "outputId": "dfbdecfd-b158-4894-be72-a47396cfb7e4"
      },
      "execution_count": 52,
      "outputs": [
        {
          "output_type": "execute_result",
          "data": {
            "text/plain": [
              "'Moo'"
            ],
            "application/vnd.google.colaboratory.intrinsic+json": {
              "type": "string"
            }
          },
          "metadata": {},
          "execution_count": 52
        }
      ]
    },
    {
      "cell_type": "code",
      "source": [
        "sheep=Sheep()"
      ],
      "metadata": {
        "id": "DEMNV1Rw-ED6"
      },
      "execution_count": 53,
      "outputs": []
    },
    {
      "cell_type": "code",
      "source": [
        "sheep.sound()"
      ],
      "metadata": {
        "colab": {
          "base_uri": "https://localhost:8080/",
          "height": 35
        },
        "id": "j9dB_SGw-Hgj",
        "outputId": "d41db86f-fd70-49fd-df4f-50f2d848951b"
      },
      "execution_count": 54,
      "outputs": [
        {
          "output_type": "execute_result",
          "data": {
            "text/plain": [
              "'Baa'"
            ],
            "application/vnd.google.colaboratory.intrinsic+json": {
              "type": "string"
            }
          },
          "metadata": {},
          "execution_count": 54
        }
      ]
    },
    {
      "cell_type": "markdown",
      "source": [
        "\n",
        "\n",
        "---\n",
        "\n"
      ],
      "metadata": {
        "id": "lqIZ1EwV-MI-"
      }
    },
    {
      "cell_type": "markdown",
      "source": [
        "**Q17.Create a class Book with attributes title, author, and year_published. Add a method get_book_info() that\n",
        "returns a formatted string with the book's details.**\n",
        "\n",
        "Ans:"
      ],
      "metadata": {
        "id": "q3eO4r3--Nbd"
      }
    },
    {
      "cell_type": "code",
      "source": [
        "class Book:\n",
        "    def __init__(self, title, author, year_published):\n",
        "        self.title = title\n",
        "        self.author = author\n",
        "        self.year_published = year_published\n",
        "\n",
        "    def get_book_info(self):\n",
        "        return f\"Title: {self.title}\\nAuthor: {self.author}\\nYear Published: {self.year_published}\""
      ],
      "metadata": {
        "id": "VOsWV-i7-K7C"
      },
      "execution_count": 55,
      "outputs": []
    },
    {
      "cell_type": "code",
      "source": [
        "book=Book(\"naruto\",\"kisimoto\",2002)"
      ],
      "metadata": {
        "id": "bT4RJzzO-y1C"
      },
      "execution_count": 56,
      "outputs": []
    },
    {
      "cell_type": "code",
      "source": [
        "book.get_book_info()"
      ],
      "metadata": {
        "colab": {
          "base_uri": "https://localhost:8080/",
          "height": 35
        },
        "id": "JNImSVGz_BJz",
        "outputId": "f67abe28-141d-47ab-d56d-d8041efe74d1"
      },
      "execution_count": 57,
      "outputs": [
        {
          "output_type": "execute_result",
          "data": {
            "text/plain": [
              "'Title: naruto\\nAuthor: kisimoto\\nYear Published: 2002'"
            ],
            "application/vnd.google.colaboratory.intrinsic+json": {
              "type": "string"
            }
          },
          "metadata": {},
          "execution_count": 57
        }
      ]
    },
    {
      "cell_type": "markdown",
      "source": [
        "\n",
        "\n",
        "---\n",
        "\n"
      ],
      "metadata": {
        "id": "UbpfeY-R_E9G"
      }
    },
    {
      "cell_type": "markdown",
      "source": [
        "**Q18.Create a class House with attributes address and price. Create a derived class Mansion that adds an\n",
        "attribute number_of_rooms.**\n",
        "\n",
        "Ans:"
      ],
      "metadata": {
        "id": "29HhKJHv_GEt"
      }
    },
    {
      "cell_type": "code",
      "source": [
        "class House:\n",
        "    def __init__(self, address, price):\n",
        "        self.address = address\n",
        "        self.price = price\n",
        "\n",
        "    def get_details(self):\n",
        "        return f\"Address: {self.address}, Price: ${self.price}\"\n",
        "\n",
        "class Mansion(House):\n",
        "    def __init__(self, address, price, number_of_rooms):\n",
        "        self.address = address\n",
        "        self.price = price\n",
        "        self.number_of_rooms = number_of_rooms\n",
        "\n",
        "    def get_details(self):\n",
        "        base_details = super().get_details()\n",
        "        return f\"{base_details}, Number of Rooms: {self.number_of_rooms}\"\n"
      ],
      "metadata": {
        "id": "0dJYUjkW_C5a"
      },
      "execution_count": 61,
      "outputs": []
    },
    {
      "cell_type": "code",
      "source": [
        "house=House(\"123 sangrur\", 250000)"
      ],
      "metadata": {
        "id": "sQ2sv3xRASPa"
      },
      "execution_count": 64,
      "outputs": []
    },
    {
      "cell_type": "code",
      "source": [
        "house.get_details()"
      ],
      "metadata": {
        "colab": {
          "base_uri": "https://localhost:8080/",
          "height": 35
        },
        "id": "KQycC3z8Acf6",
        "outputId": "e1a2e50a-fc71-495b-edff-6747cce5796e"
      },
      "execution_count": 65,
      "outputs": [
        {
          "output_type": "execute_result",
          "data": {
            "text/plain": [
              "'Address: 123 sangrur, Price: $250000'"
            ],
            "application/vnd.google.colaboratory.intrinsic+json": {
              "type": "string"
            }
          },
          "metadata": {},
          "execution_count": 65
        }
      ]
    },
    {
      "cell_type": "code",
      "source": [
        "mansion=Mansion(\"123 sangrur\", 250000,5)"
      ],
      "metadata": {
        "id": "9LR4n8NrAiUu"
      },
      "execution_count": 67,
      "outputs": []
    },
    {
      "cell_type": "code",
      "source": [
        "mansion.get_details()"
      ],
      "metadata": {
        "colab": {
          "base_uri": "https://localhost:8080/",
          "height": 35
        },
        "id": "JSwxXIXgAnzy",
        "outputId": "234200aa-cd3b-45b4-e6f1-814399c5b466"
      },
      "execution_count": 68,
      "outputs": [
        {
          "output_type": "execute_result",
          "data": {
            "text/plain": [
              "'Address: 123 sangrur, Price: $250000, Number of Rooms: 5'"
            ],
            "application/vnd.google.colaboratory.intrinsic+json": {
              "type": "string"
            }
          },
          "metadata": {},
          "execution_count": 68
        }
      ]
    },
    {
      "cell_type": "code",
      "source": [],
      "metadata": {
        "id": "KyLsIGccApoa"
      },
      "execution_count": null,
      "outputs": []
    }
  ]
}